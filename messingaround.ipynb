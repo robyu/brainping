{
 "cells": [
  {
   "cell_type": "code",
   "execution_count": 2,
   "id": "351ac542",
   "metadata": {},
   "outputs": [],
   "source": [
    "from datetime import datetime as dt\n"
   ]
  },
  {
   "cell_type": "code",
   "execution_count": 3,
   "id": "053968b9",
   "metadata": {},
   "outputs": [],
   "source": [
    "now = dt.now()"
   ]
  },
  {
   "cell_type": "code",
   "execution_count": 7,
   "id": "bc823816",
   "metadata": {},
   "outputs": [
    {
     "name": "stdout",
     "output_type": "stream",
     "text": [
      "2023-01-21 21:34:03.389455\n",
      "2023\n",
      "21:34:03.389455\n",
      "2023-01-21\n",
      "21:34:03.389455\n",
      "<class 'datetime.time'>\n"
     ]
    }
   ],
   "source": [
    "print(now)\n",
    "print(now.year)  # just the year\n",
    "print(now.time()) # a time object, no date\n",
    "print(now.date())\n",
    "print(now.time())\n",
    "print(type(now.time()))"
   ]
  },
  {
   "cell_type": "code",
   "execution_count": 4,
   "id": "070b4c0d",
   "metadata": {},
   "outputs": [
    {
     "ename": "NameError",
     "evalue": "name 'datetime' is not defined",
     "output_type": "error",
     "traceback": [
      "\u001b[0;31m---------------------------------------------------------------------------\u001b[0m",
      "\u001b[0;31mNameError\u001b[0m                                 Traceback (most recent call last)",
      "Input \u001b[0;32mIn [4]\u001b[0m, in \u001b[0;36m<cell line: 4>\u001b[0;34m()\u001b[0m\n\u001b[1;32m      2\u001b[0m t0_string \u001b[38;5;241m=\u001b[39m \u001b[38;5;124m\"\u001b[39m\u001b[38;5;124m07:00:00\u001b[39m\u001b[38;5;124m\"\u001b[39m\n\u001b[1;32m      3\u001b[0m time_format\u001b[38;5;241m=\u001b[39m\u001b[38;5;124m\"\u001b[39m\u001b[38;5;124m%\u001b[39m\u001b[38;5;124mH:\u001b[39m\u001b[38;5;124m%\u001b[39m\u001b[38;5;124mM:\u001b[39m\u001b[38;5;124m%\u001b[39m\u001b[38;5;124mS\u001b[39m\u001b[38;5;124m\"\u001b[39m\n\u001b[0;32m----> 4\u001b[0m t0_wrong \u001b[38;5;241m=\u001b[39m \u001b[43mdatetime\u001b[49m\u001b[38;5;241m.\u001b[39mstrptime(t0_string, time_format)\n\u001b[1;32m      5\u001b[0m \u001b[38;5;28mprint\u001b[39m(t0_wrong)\n",
      "\u001b[0;31mNameError\u001b[0m: name 'datetime' is not defined"
     ]
    }
   ],
   "source": [
    "# convert a time string to a datetime object\n",
    "t0_string = \"07:00:00\"\n",
    "time_format=\"%H:%M:%S\"\n",
    "t0_wrong = datetime.strptime(t0_string, time_format)\n",
    "print(t0_wrong)   # wrong date\n",
    "\n"
   ]
  },
  {
   "cell_type": "code",
   "execution_count": null,
   "id": "88e09a5c",
   "metadata": {},
   "outputs": [],
   "source": [
    "# \n",
    "# convert t0 to synthetic datetime based on today's date\n",
    "t0_corrected = datetime.combine(now, t0_wrong.time())\n",
    "print(t0_corrected) # correct date"
   ]
  },
  {
   "cell_type": "code",
   "execution_count": null,
   "id": "cbd2a645",
   "metadata": {},
   "outputs": [],
   "source": [
    "delta = now - t0_corrected\n",
    "delta_sec = delta.total_seconds()\n",
    "print(delta_sec)\n",
    "print(delta_sec/(60 * 60.0))"
   ]
  },
  {
   "cell_type": "code",
   "execution_count": 5,
   "id": "1c383b10",
   "metadata": {},
   "outputs": [
    {
     "ename": "AttributeError",
     "evalue": "'datetime.datetime' object has no attribute 'total_seconds'",
     "output_type": "error",
     "traceback": [
      "\u001b[0;31m---------------------------------------------------------------------------\u001b[0m",
      "\u001b[0;31mAttributeError\u001b[0m                            Traceback (most recent call last)",
      "Input \u001b[0;32mIn [5]\u001b[0m, in \u001b[0;36m<cell line: 1>\u001b[0;34m()\u001b[0m\n\u001b[0;32m----> 1\u001b[0m \u001b[38;5;28mprint\u001b[39m (\u001b[43mnow\u001b[49m\u001b[38;5;241;43m.\u001b[39;49m\u001b[43mtotal_seconds\u001b[49m())\n",
      "\u001b[0;31mAttributeError\u001b[0m: 'datetime.datetime' object has no attribute 'total_seconds'"
     ]
    }
   ],
   "source": [
    "print (now.total_seconds())"
   ]
  },
  {
   "cell_type": "code",
   "execution_count": 8,
   "id": "da07672e",
   "metadata": {},
   "outputs": [
    {
     "name": "stdout",
     "output_type": "stream",
     "text": [
      "2023-01-21 21:34:03.389455\n",
      "1674365643.389455\n"
     ]
    }
   ],
   "source": [
    "print(now)\n",
    "now.timestamp()\n",
    "now_sec = now.timestamp()\n",
    "print(now_sec)"
   ]
  },
  {
   "cell_type": "code",
   "execution_count": 9,
   "id": "9b9c0ccd",
   "metadata": {},
   "outputs": [
    {
     "name": "stdout",
     "output_type": "stream",
     "text": [
      "2023-01-21 21:34:03.389455\n"
     ]
    }
   ],
   "source": [
    "now_2 = dt.fromtimestamp(now_sec)\n",
    "print(now_2)"
   ]
  },
  {
   "cell_type": "code",
   "execution_count": 10,
   "id": "50be1d26",
   "metadata": {},
   "outputs": [
    {
     "name": "stdout",
     "output_type": "stream",
     "text": [
      "2023-01-21 22:34:03.389455\n"
     ]
    }
   ],
   "source": [
    "#\n",
    "# add an hour \n",
    "now_1h = now_sec + (60.0 * 60.0)\n",
    "now_3 = dt.fromtimestamp(now_1h)\n",
    "print(now_3)"
   ]
  },
  {
   "cell_type": "code",
   "execution_count": 12,
   "id": "99cf1b0c",
   "metadata": {},
   "outputs": [
    {
     "data": {
      "text/plain": [
       "True"
      ]
     },
     "execution_count": 12,
     "metadata": {},
     "output_type": "execute_result"
    }
   ],
   "source": [
    "now_3 > now"
   ]
  },
  {
   "cell_type": "code",
   "execution_count": 11,
   "id": "21e698b9",
   "metadata": {},
   "outputs": [],
   "source": [
    "midnight = dt.combine(dt.now(), dt.strptime(\"00:00:00\", \"%H:%M:%S\").time())"
   ]
  },
  {
   "cell_type": "code",
   "execution_count": 12,
   "id": "67d2e7f1",
   "metadata": {},
   "outputs": [
    {
     "name": "stdout",
     "output_type": "stream",
     "text": [
      "2023-01-21 00:00:00\n"
     ]
    }
   ],
   "source": [
    "print(midnight)"
   ]
  },
  {
   "cell_type": "code",
   "execution_count": 14,
   "id": "d8295a69",
   "metadata": {},
   "outputs": [
    {
     "name": "stdout",
     "output_type": "stream",
     "text": [
      "1674288000.0\n"
     ]
    }
   ],
   "source": [
    "print(dt.timestamp(midnight))"
   ]
  },
  {
   "cell_type": "code",
   "execution_count": 17,
   "id": "f8ac6d8c",
   "metadata": {},
   "outputs": [
    {
     "data": {
      "text/plain": [
       "int"
      ]
     },
     "execution_count": 17,
     "metadata": {},
     "output_type": "execute_result"
    }
   ],
   "source": [
    "type(midnight.hour)"
   ]
  },
  {
   "cell_type": "code",
   "execution_count": 21,
   "id": "759e6353",
   "metadata": {},
   "outputs": [
    {
     "data": {
      "text/plain": [
       "66370.58653497696"
      ]
     },
     "execution_count": 21,
     "metadata": {},
     "output_type": "execute_result"
    }
   ],
   "source": [
    "now_1h - dt.timestamp(midnight)"
   ]
  },
  {
   "cell_type": "code",
   "execution_count": 24,
   "id": "650bc392",
   "metadata": {},
   "outputs": [
    {
     "name": "stdout",
     "output_type": "stream",
     "text": [
      "[0. 0. 0. 0. 0. 0. 0. 0. 0. 0.]\n"
     ]
    }
   ],
   "source": [
    "import numpy as np\n",
    "l = np.zeros(10)\n",
    "print(l)"
   ]
  },
  {
   "cell_type": "code",
   "execution_count": 35,
   "id": "a0fc9eab",
   "metadata": {},
   "outputs": [
    {
     "name": "stdout",
     "output_type": "stream",
     "text": [
      "[59  9 17  0 16 39 56 11 56 21]\n"
     ]
    }
   ],
   "source": [
    "from numpy.random import default_rng\n",
    "rng = default_rng()\n",
    "vals = rng.integers(100,size=10)\n",
    "print(vals)\n"
   ]
  },
  {
   "cell_type": "code",
   "execution_count": 1,
   "id": "53f174f7",
   "metadata": {},
   "outputs": [
    {
     "ename": "NameError",
     "evalue": "name 'vals' is not defined",
     "output_type": "error",
     "traceback": [
      "\u001b[0;31m---------------------------------------------------------------------------\u001b[0m",
      "\u001b[0;31mNameError\u001b[0m                                 Traceback (most recent call last)",
      "Input \u001b[0;32mIn [1]\u001b[0m, in \u001b[0;36m<cell line: 1>\u001b[0;34m()\u001b[0m\n\u001b[0;32m----> 1\u001b[0m \u001b[43mvals\u001b[49m\n",
      "\u001b[0;31mNameError\u001b[0m: name 'vals' is not defined"
     ]
    }
   ],
   "source": [
    "vals"
   ]
  },
  {
   "cell_type": "code",
   "execution_count": null,
   "id": "a4e0585a",
   "metadata": {},
   "outputs": [],
   "source": []
  }
 ],
 "metadata": {
  "kernelspec": {
   "display_name": "Python 3 (ipykernel)",
   "language": "python",
   "name": "python3"
  },
  "language_info": {
   "codemirror_mode": {
    "name": "ipython",
    "version": 3
   },
   "file_extension": ".py",
   "mimetype": "text/x-python",
   "name": "python",
   "nbconvert_exporter": "python",
   "pygments_lexer": "ipython3",
   "version": "3.9.12"
  }
 },
 "nbformat": 4,
 "nbformat_minor": 5
}
